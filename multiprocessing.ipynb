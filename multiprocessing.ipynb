{
 "cells": [
  {
   "cell_type": "code",
   "execution_count": 1,
   "id": "dceb4685-beee-44d4-b1c4-7844026b8731",
   "metadata": {},
   "outputs": [],
   "source": [
    "#Q1. What is multiprocessing in python? Why is it useful? "
   ]
  },
  {
   "cell_type": "code",
   "execution_count": null,
   "id": "aaddefbb-04a4-4558-bce3-41c6540536b6",
   "metadata": {},
   "outputs": [],
   "source": [
    "'''Multiprocessing in Python refers to a module and programming technique that\n",
    "allows you to create and manage multiple processes to\n",
    "execute tasks concurrently in a Python program. \n",
    "It is particularly useful for taking advantage of multi-core processors and \n",
    "distributing computing tasks across multiple CPU cores, \n",
    "which can lead to significant performance improvements, \n",
    "especially for CPU-bound or computationally intensive tasks.'''"
   ]
  },
  {
   "cell_type": "code",
   "execution_count": 2,
   "id": "5de61760-9e13-42db-bd8f-9cb828ce22b8",
   "metadata": {},
   "outputs": [
    {
     "name": "stdout",
     "output_type": "stream",
     "text": [
      "[1, 4, 9, 16, 25]\n"
     ]
    }
   ],
   "source": [
    "import multiprocessing\n",
    "\n",
    "def square(x):\n",
    "    return x * x\n",
    "\n",
    "if __name__ == \"__main__\":\n",
    "    pool = multiprocessing.Pool(processes=4)\n",
    "    \n",
    "    result = pool.map(square, [1, 2, 3, 4, 5])\n",
    "    \n",
    "    pool.close()\n",
    "    pool.join()\n",
    "    \n",
    "    print(result)\n"
   ]
  },
  {
   "cell_type": "code",
   "execution_count": 3,
   "id": "684b7b46-d650-40b5-9f80-a7c45abc355b",
   "metadata": {},
   "outputs": [],
   "source": [
    "#Q2. What are the differences between multiprocessing and multithreading?"
   ]
  },
  {
   "cell_type": "code",
   "execution_count": null,
   "id": "547ab5e7-2bb8-4d50-af92-e6afcac71e94",
   "metadata": {},
   "outputs": [],
   "source": [
    "'''differences between multiprocessing and multithreading\n",
    "\n",
    "1) Multiprocessing: In multiprocessing, multiple processes run concurrently, and \n",
    "each process has its own separate memory space and Python interpreter. \n",
    "These processes can run on multiple CPU cores, allowing true parallelism.\n",
    "\n",
    "Multithreading: In multithreading, multiple threads run within the same process and \n",
    "share the same memory space and Python interpreter. \n",
    "Threads are lighter-weight than processes but are subject to the Global Interpreter Lock (GIL) in CPython, \n",
    "which can limit true parallelism for CPU-bound tasks.\n",
    "\n",
    "2) Multiprocessing: Processes are isolated from each other, \n",
    "meaning that one process's memory or resource issues are less likely to affect other processes. \n",
    "This isolation can enhance program robustness.\n",
    "\n",
    "Multithreading: Threads within the same process share memory and resources, \n",
    "which can lead to issues like data race conditions and thread interference if not properly synchronized.\n",
    "\n",
    "3) Multiprocessing: Offers true parallelism by utilizing multiple CPU cores effectively,\n",
    "making it suitable for CPU-bound tasks or tasks that can be easily parallelized.\n",
    "\n",
    "Multithreading: Limited by the GIL in CPython, which allows only one thread to execute Python bytecode at a time. \n",
    "This means that multithreading may not provide as much performance improvement for CPU-bound tasks\n",
    "as multiprocessing does. However, it can still be beneficial for I/O-bound tasks where threads can perform other \n",
    "activities while waiting for I/O operations to complete.\n",
    "\n",
    "4) Multiprocessing: Inter-process communication (IPC) is used for communication between processes. \n",
    "This typically involves mechanisms like queues, pipes, or shared memory.\n",
    "\n",
    "Multithreading: Threads can easily share data and communicate with each other through shared variables and \n",
    "data structures. However, this also increases the complexity of managing thread synchronization to avoid race conditions. "
   ]
  },
  {
   "cell_type": "code",
   "execution_count": null,
   "id": "fb50f95c-a5ce-469b-88e1-b0c555d2f38c",
   "metadata": {},
   "outputs": [],
   "source": []
  },
  {
   "cell_type": "code",
   "execution_count": 4,
   "id": "e6577e50-efb4-47e5-ab4e-b9e6526aca48",
   "metadata": {},
   "outputs": [],
   "source": [
    "#Q3. Write a python code to create a process using the multiprocessing module."
   ]
  },
  {
   "cell_type": "code",
   "execution_count": 5,
   "id": "ff86dd12-9aa3-4e55-8be1-15697e5feebc",
   "metadata": {},
   "outputs": [
    {
     "name": "stdout",
     "output_type": "stream",
     "text": [
      "This is a child process.\n",
      "Main process continues.\n"
     ]
    }
   ],
   "source": [
    "import multiprocessing\n",
    "\n",
    "def my_function():\n",
    "    print(\"This is a child process.\")\n",
    "\n",
    "if __name__ == \"__main__\":\n",
    "    # Create a new process\n",
    "    child_process = multiprocessing.Process(target=my_function)\n",
    "    \n",
    "    # Start the process\n",
    "    child_process.start()\n",
    "    \n",
    "    # Wait for the process to finish\n",
    "    child_process.join()\n",
    "    \n",
    "    print(\"Main process continues.\")"
   ]
  },
  {
   "cell_type": "code",
   "execution_count": null,
   "id": "b40fe98b-280e-4f50-8c4e-e8f07e7f76bc",
   "metadata": {},
   "outputs": [],
   "source": []
  },
  {
   "cell_type": "code",
   "execution_count": 6,
   "id": "7602240c-1e52-4c10-bc31-b243ee5a66b7",
   "metadata": {},
   "outputs": [],
   "source": [
    "#Q4. What is a multiprocessing pool in python? Why is it used?"
   ]
  },
  {
   "cell_type": "code",
   "execution_count": null,
   "id": "756d752a-7d56-44b2-b23e-3fef1221d424",
   "metadata": {},
   "outputs": [],
   "source": [
    "'''A multiprocessing pool in Python, specifically referring to the multiprocessing.\n",
    "Pool class provided by the multiprocessing module, is a high-level abstraction for managing a pool of worker processes. \n",
    "It simplifies the creation, distribution of tasks, and collection of results from multiple worker processes. \n",
    "Multiprocessing pools are used to efficiently parallelize tasks, especially when you have a large number of tasks to perform concurrently.'''"
   ]
  },
  {
   "cell_type": "code",
   "execution_count": null,
   "id": "8d8c1534-bc9a-4500-8762-2cd890ebe4b8",
   "metadata": {},
   "outputs": [],
   "source": []
  },
  {
   "cell_type": "code",
   "execution_count": 7,
   "id": "fb21c40a-145b-4053-9508-0a826ff21eca",
   "metadata": {},
   "outputs": [],
   "source": [
    "#Q5. How can we create a pool of worker processes in python using the multiprocessing module?"
   ]
  },
  {
   "cell_type": "code",
   "execution_count": 8,
   "id": "bf781c45-06d2-46bb-8055-61841e1d2b56",
   "metadata": {},
   "outputs": [
    {
     "name": "stdout",
     "output_type": "stream",
     "text": [
      "[1, 4, 9, 16, 25]\n"
     ]
    }
   ],
   "source": [
    "import multiprocessing\n",
    "\n",
    "def square(x):\n",
    "    return x * x\n",
    "\n",
    "if __name__ == \"__main__\":\n",
    "    # Create a Pool with 4 worker processes\n",
    "    pool = multiprocessing.Pool(processes=4)\n",
    "    \n",
    "    # Distribute tasks to the worker processes using 'map'\n",
    "    result = pool.map(square, [1, 2, 3, 4, 5])\n",
    "    \n",
    "    # Close the pool and wait for the worker processes to finish\n",
    "    pool.close()\n",
    "    pool.join()\n",
    "    \n",
    "    # Print the results\n",
    "    print(result)  # Output: [1, 4, 9, 16, 25]\n"
   ]
  },
  {
   "cell_type": "code",
   "execution_count": null,
   "id": "0a52e320-5857-497b-86dc-d54a34313778",
   "metadata": {},
   "outputs": [],
   "source": []
  },
  {
   "cell_type": "code",
   "execution_count": 9,
   "id": "d4faa2d1-31bf-47c8-8975-90aa59afdbfc",
   "metadata": {},
   "outputs": [],
   "source": [
    "#Q6. Write a python program to create 4 processes, each process should print a different number using the multiprocessing module in python"
   ]
  },
  {
   "cell_type": "code",
   "execution_count": null,
   "id": "b3892f08-4bab-4e55-9fe6-7838631827f5",
   "metadata": {},
   "outputs": [],
   "source": [
    "import multiprocessing\n",
    "\n",
    "# Function to print a number\n",
    "def print_number(number):\n",
    "    print(f\"Process {number}: My number is {number}\")\n",
    "\n",
    "if __name__ == \"__main__\":\n",
    "    # Create a list of numbers\n",
    "    numbers = [1, 2, 3, 4]\n",
    "    \n",
    "    # Create a list to hold the process objects\n",
    "    processes = []\n",
    "\n",
    "    # Create and start a process for each number\n",
    "    for num in numbers:\n",
    "        process = multiprocessing.Process(target=print_number, args=(num,))\n",
    "        processes.append(process)\n",
    "        process.start()\n",
    "\n",
    "    # Wait for all processes to finish\n",
    "    for process in processes:\n",
    "        process.join()\n",
    "\n",
    "    print(\"All processes have finished.\")\n"
   ]
  }
 ],
 "metadata": {
  "kernelspec": {
   "display_name": "Python 3 (ipykernel)",
   "language": "python",
   "name": "python3"
  },
  "language_info": {
   "codemirror_mode": {
    "name": "ipython",
    "version": 3
   },
   "file_extension": ".py",
   "mimetype": "text/x-python",
   "name": "python",
   "nbconvert_exporter": "python",
   "pygments_lexer": "ipython3",
   "version": "3.10.8"
  }
 },
 "nbformat": 4,
 "nbformat_minor": 5
}
